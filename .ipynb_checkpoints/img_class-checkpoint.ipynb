{
 "cells": [
  {
   "cell_type": "code",
   "execution_count": null,
   "id": "1ebe81bd",
   "metadata": {
    "id": "1ebe81bd"
   },
   "outputs": [
    {
     "name": "stdout",
     "output_type": "stream",
     "text": [
      "Requirement already satisfied: matplotlib in c:\\users\\kingo\\anaconda3\\lib\\site-packages (3.5.0)\n",
      "Requirement already satisfied: packaging>=20.0 in c:\\users\\kingo\\anaconda3\\lib\\site-packages (from matplotlib) (21.3)\n",
      "Requirement already satisfied: pillow>=6.2.0 in c:\\users\\kingo\\anaconda3\\lib\\site-packages (from matplotlib) (8.4.0)\n",
      "Requirement already satisfied: fonttools>=4.22.0 in c:\\users\\kingo\\anaconda3\\lib\\site-packages (from matplotlib) (4.25.0)\n",
      "Requirement already satisfied: python-dateutil>=2.7 in c:\\users\\kingo\\anaconda3\\lib\\site-packages (from matplotlib) (2.8.2)\n",
      "Requirement already satisfied: kiwisolver>=1.0.1 in c:\\users\\kingo\\anaconda3\\lib\\site-packages (from matplotlib) (1.3.1)\n",
      "Requirement already satisfied: cycler>=0.10 in c:\\users\\kingo\\anaconda3\\lib\\site-packages (from matplotlib) (0.11.0)\n",
      "Requirement already satisfied: numpy>=1.17 in c:\\users\\kingo\\anaconda3\\lib\\site-packages (from matplotlib) (1.20.3)\n",
      "Requirement already satisfied: pyparsing>=2.2.1 in c:\\users\\kingo\\anaconda3\\lib\\site-packages (from matplotlib) (3.0.4)\n",
      "Requirement already satisfied: six>=1.5 in c:\\users\\kingo\\anaconda3\\lib\\site-packages (from python-dateutil>=2.7->matplotlib) (1.16.0)\n"
     ]
    }
   ],
   "source": [
    "!pip install matplotlib\n",
    "import matplotlib.pyplot as plt\n",
    "import numpy as np\n",
    "!pip install tensorflow \n",
    "import tensorflow as tf\n",
    "from tensorflow import keras\n",
    "from keras.models import Sequential\n",
    "from tensorflow.keras import layers\n",
    "from keras.layers import Dense, Flatten, Conv2D, MaxPooling2D, Dropout\n",
    "from tensorflow.keras.utils import to_categorical\n",
    "%matplotlib inline"
   ]
  },
  {
   "cell_type": "code",
   "execution_count": null,
   "id": "71e33fc6",
   "metadata": {
    "id": "71e33fc6"
   },
   "outputs": [],
   "source": [
    "## load the data\n",
    "from keras.datasets import cifar10\n",
    "(x_train, y_train),(x_test, y_test) = cifar10.load_data()"
   ]
  },
  {
   "cell_type": "markdown",
   "id": "3f1706bc",
   "metadata": {
    "id": "3f1706bc"
   },
   "source": [
    "#shape of the data"
   ]
  },
  {
   "cell_type": "code",
   "execution_count": null,
   "id": "3243c25f",
   "metadata": {
    "colab": {
     "base_uri": "https://localhost:8080/"
    },
    "id": "3243c25f",
    "outputId": "5bf24fa5-e5b1-4aa0-b3fb-a43943af13b8"
   },
   "outputs": [],
   "source": [
    "print('x_train shape', x_train.shape)\n",
    "print('y_train shape', y_train.shape)\n",
    "print('x_test shape', x_test.shape)\n",
    "print('y_test shape', y_test.shape)"
   ]
  },
  {
   "cell_type": "code",
   "execution_count": null,
   "id": "97a9f387",
   "metadata": {
    "colab": {
     "base_uri": "https://localhost:8080/"
    },
    "id": "97a9f387",
    "outputId": "9fb61939-5c3f-4ac0-94e6-560b77e3b140"
   },
   "outputs": [],
   "source": [
    "# see the first image as an array\n",
    "img_1 = 30\n",
    "x_train[img_1]"
   ]
  },
  {
   "cell_type": "code",
   "execution_count": null,
   "id": "0bf8f359",
   "metadata": {
    "colab": {
     "base_uri": "https://localhost:8080/",
     "height": 283
    },
    "id": "0bf8f359",
    "outputId": "feb665ae-7bdf-43f2-d0a6-56cb368512e5"
   },
   "outputs": [],
   "source": [
    "# show the image as a picture\n",
    "plt.imshow(x_train[img_1])"
   ]
  },
  {
   "cell_type": "code",
   "execution_count": null,
   "id": "f5492886",
   "metadata": {
    "colab": {
     "base_uri": "https://localhost:8080/"
    },
    "id": "f5492886",
    "outputId": "f4bf3520-6982-435d-8a36-6f04f954f9f3"
   },
   "outputs": [],
   "source": [
    "# Get the label\n",
    "print('Image label is ', y_train[img_1])"
   ]
  },
  {
   "cell_type": "code",
   "execution_count": null,
   "id": "12a8517d",
   "metadata": {
    "id": "12a8517d"
   },
   "outputs": [],
   "source": [
    "# image classification\n",
    "classification = ['Airplane','Automobile','Bird','Cat', 'Deer','Dog','Frog','Horse','Ship','Truck']"
   ]
  },
  {
   "cell_type": "code",
   "execution_count": null,
   "id": "1e942da6",
   "metadata": {
    "colab": {
     "base_uri": "https://localhost:8080/"
    },
    "id": "1e942da6",
    "outputId": "5b34e08d-9849-4560-df2c-fdb650b6da2a"
   },
   "outputs": [],
   "source": [
    "print(\"The image is a \", classification[y_train[img_1][0]])"
   ]
  },
  {
   "cell_type": "markdown",
   "id": "1c85d626",
   "metadata": {
    "id": "1c85d626"
   },
   "source": [
    "#### Prepare data for the Neural Network"
   ]
  },
  {
   "cell_type": "code",
   "execution_count": null,
   "id": "de539b71",
   "metadata": {
    "id": "de539b71"
   },
   "outputs": [],
   "source": [
    "# converting all the labells into a set of 10 numbers to input into the neural Network\n",
    "y_train_one_hot = to_categorical(y_train)\n",
    "y_test_one_hot = to_categorical(y_test)"
   ]
  },
  {
   "cell_type": "code",
   "execution_count": null,
   "id": "5091a333",
   "metadata": {
    "colab": {
     "base_uri": "https://localhost:8080/"
    },
    "id": "5091a333",
    "outputId": "29891bde-3a67-4e57-d477-2700f8d69d46"
   },
   "outputs": [],
   "source": [
    "y_train_one_hot"
   ]
  },
  {
   "cell_type": "code",
   "execution_count": null,
   "id": "f93d30b4",
   "metadata": {
    "colab": {
     "base_uri": "https://localhost:8080/"
    },
    "id": "f93d30b4",
    "outputId": "ee68410b-bbbb-4deb-9304-3499bae8c12e"
   },
   "outputs": [],
   "source": [
    "# print the one hot label of the above image\n",
    "print('The one hot label is ', y_train_one_hot[img_1])"
   ]
  },
  {
   "cell_type": "markdown",
   "id": "ec9da514",
   "metadata": {
    "id": "ec9da514"
   },
   "source": [
    "### Normalizing the pixels to be smaller values i.e btw 0 and 1"
   ]
  },
  {
   "cell_type": "code",
   "execution_count": null,
   "id": "b2c16a82",
   "metadata": {
    "id": "b2c16a82"
   },
   "outputs": [],
   "source": [
    "x_train = x_train/255\n",
    "x_test = x_test/255"
   ]
  },
  {
   "cell_type": "code",
   "execution_count": null,
   "id": "481592e7",
   "metadata": {
    "colab": {
     "base_uri": "https://localhost:8080/"
    },
    "id": "481592e7",
    "outputId": "a543e76f-7190-4446-ed4d-c5ea8d46fe33"
   },
   "outputs": [],
   "source": [
    "x_train[img_1]"
   ]
  },
  {
   "cell_type": "markdown",
   "id": "97f24ca5",
   "metadata": {
    "id": "97f24ca5"
   },
   "source": [
    "### Create the models architecture"
   ]
  },
  {
   "cell_type": "code",
   "execution_count": null,
   "id": "87bda249",
   "metadata": {
    "id": "87bda249"
   },
   "outputs": [],
   "source": [
    "model = Sequential()\n",
    "\n",
    "# Add first layer of the cnn\n",
    "model.add(Conv2D(32, (5,5), activation = 'relu', input_shape = (32,32,3)))\n",
    "\n",
    "# Add a max pooling layer\n",
    "model.add(MaxPooling2D(pool_size =(2,2)))\n",
    "\n",
    "\n",
    "# Add a second convolution layeer\n",
    "model.add(Conv2D(32, (5,5), activation = 'relu'))\n",
    "\n",
    "# Add another max pooling layer\n",
    "model.add(MaxPooling2D(pool_size =(2,2)))\n",
    "\n",
    "# Add a flattening layer\n",
    "model.add(Flatten())\n",
    "\n",
    "# add a layer with 5000 neurons\n",
    "model.add(Dense(5000, activation = 'relu'))\n",
    "\n",
    "# Add a drop out layer\n",
    "model.add(Dropout(0.5))\n",
    "\n",
    "# add a layer with 1000 neurons\n",
    "model.add(Dense(1000, activation = 'relu'))\n",
    "\n",
    "# Add a drop out layer\n",
    "model.add(Dropout(0.5))\n",
    "\n",
    "# add a layer with 500 neurons\n",
    "model.add(Dense(500, activation = 'relu'))\n",
    "\n",
    "# Add a drop out layer\n",
    "model.add(Dropout(0.5))\n",
    "\n",
    "# add a layer with 250 neurons\n",
    "model.add(Dense(250, activation = 'relu'))\n",
    "\n",
    "# add a layer with 10 neurons\n",
    "model.add(Dense(10, activation = 'softmax'))"
   ]
  },
  {
   "cell_type": "markdown",
   "id": "d2b3644c",
   "metadata": {
    "id": "d2b3644c"
   },
   "source": [
    "#### compile the model"
   ]
  },
  {
   "cell_type": "code",
   "execution_count": null,
   "id": "06c358b4",
   "metadata": {
    "id": "06c358b4"
   },
   "outputs": [],
   "source": [
    "model.compile(loss = 'categorical_crossentropy',\n",
    "             optimizer = 'adam',\n",
    "             metrics = ['accuracy'])"
   ]
  },
  {
   "cell_type": "markdown",
   "id": "960458cd",
   "metadata": {
    "id": "960458cd"
   },
   "source": [
    "#### Train the model"
   ]
  },
  {
   "cell_type": "code",
   "execution_count": null,
   "id": "a1422cd4",
   "metadata": {
    "colab": {
     "base_uri": "https://localhost:8080/"
    },
    "id": "a1422cd4",
    "outputId": "0e85bba5-66a0-48a9-ed67-ba93779360ed"
   },
   "outputs": [],
   "source": [
    "\n",
    "# Implement callback function to stop training  when accuracy reaches ACCURACY_THRESHOLD\n",
    "ACCURACY_THRESHOLD = 0.95\n",
    "\n",
    "class myCallback(tf.keras.callbacks.Callback):\n",
    "\tdef on_epoch_end(self, epoch, logs={}):\n",
    "\t\tif(logs.get('acc') > ACCURACY_THRESHOLD):\n",
    "\t\t\tprint(\"\\nReached %2.2f%% accuracy, so stopping training!!\" %(ACCURACY_THRESHOLD*100))\n",
    "\t\t\tself.model.stop_training = True\n",
    "\n",
    "# Instantiate a callback object\n",
    "callbacks = myCallback()\n",
    "\n",
    "hist = model.fit(x_train, y_train_one_hot,\n",
    "                batch_size = 10,\n",
    "                epochs = 500,\n",
    "                validation_split = 0.2,\n",
    "                 callbacks=[callbacks])"
   ]
  },
  {
   "cell_type": "markdown",
   "id": "04294626",
   "metadata": {
    "id": "04294626"
   },
   "source": [
    "### Evaluate the model"
   ]
  },
  {
   "cell_type": "code",
   "execution_count": null,
   "id": "4cbaa359",
   "metadata": {
    "id": "4cbaa359"
   },
   "outputs": [],
   "source": [
    "model.evaluate(x_test, y_test_one_hot)[1]"
   ]
  },
  {
   "cell_type": "code",
   "execution_count": null,
   "id": "1ac6d0ad",
   "metadata": {
    "id": "1ac6d0ad"
   },
   "outputs": [],
   "source": [
    "model.evaluate(x_test, y_test_one_hot)[0]"
   ]
  },
  {
   "cell_type": "code",
   "execution_count": null,
   "id": "2035378d",
   "metadata": {
    "id": "2035378d"
   },
   "outputs": [],
   "source": [
    "plt.plot(hist.history['accuracy'])\n",
    "plt.plot(hist.history['val_accuracy'])\n",
    "plt.title('Model accuracy')\n",
    "plt.ylabel('Accuracy')\n",
    "plt.xlabel('Epoch')\n",
    "plt.legend(['Train','Val'], loc ='upper left')\n",
    "plt.show()"
   ]
  },
  {
   "cell_type": "markdown",
   "id": "84130a2a",
   "metadata": {
    "id": "84130a2a"
   },
   "source": [
    "### visualize the models loss\n"
   ]
  },
  {
   "cell_type": "code",
   "execution_count": null,
   "id": "9a10477f",
   "metadata": {
    "id": "9a10477f"
   },
   "outputs": [],
   "source": [
    "plt.plot(hist.history['loss'])\n",
    "plt.plot(hist.history['val_loss'])\n",
    "plt.title('Model loss')\n",
    "plt.ylabel('Loss')\n",
    "plt.xlabel('Epoch')\n",
    "plt.legend(['Train','Val'], loc ='upper right')\n",
    "plt.show()"
   ]
  },
  {
   "cell_type": "markdown",
   "id": "faf55604",
   "metadata": {
    "id": "faf55604"
   },
   "source": [
    "### Test the model"
   ]
  },
  {
   "cell_type": "code",
   "execution_count": null,
   "id": "2dbc5165",
   "metadata": {
    "id": "2dbc5165"
   },
   "outputs": [],
   "source": [
    "import os\n",
    "# !pip install opencv-python\n",
    "\n",
    "import cv2\n",
    "# !pip install scikit-image\n",
    "from keras.preprocessing.image import img_to_array\n",
    "from numpy import asarray\n",
    "from skimage.transform import resize\n",
    "\n",
    "foldername = \"./test_images/\"\n",
    "\n",
    "my_list = []\n",
    "for img_count, filename in enumerate(os.listdir(foldername)):\n",
    "    img = cv2.imread(os.path.join(foldername,filename))\n",
    "    resized_image = resize(img, (32,32,3))\n",
    "\n",
    "    my_list.append(resized_image)\n",
    "    plt.imshow(resized_image)\n",
    "    plt.show()\n",
    "    \n",
    "    # for item in my_list:\n",
    "    pred = model.predict(np.array([resized_image]))\n",
    "    display(pred)\n",
    "    list_index = [0,1,2,3,4,5,6,7,8,9]\n",
    "    x = pred\n",
    "\n",
    "################# display the array as integers #########\n",
    "    for i in range(10):\n",
    "          for j in range(10):\n",
    "              if x[0][list_index[i]] > x[0][list_index[j]]:\n",
    "                  #swap the numbers\n",
    "                  temp = list_index[i]\n",
    "                  list_index[i] = list_index[j]\n",
    "                  list_index[j] = temp\n",
    "    display(list_index)\n",
    "        \n",
    "    for i in range(3):\n",
    "        print(classification[list_index[i]])\n",
    "    print(\"=\" * 50)\n",
    "\n",
    "# print('Total images are :', img_count+1)"
   ]
  },
  {
   "cell_type": "markdown",
   "id": "e81f81e9",
   "metadata": {
    "id": "e81f81e9"
   },
   "source": [
    "### check if the model can predict the image\n"
   ]
  },
  {
   "cell_type": "code",
   "execution_count": null,
   "id": "a419bca7",
   "metadata": {
    "id": "a419bca7"
   },
   "outputs": [],
   "source": [
    "display(my_list[0])"
   ]
  },
  {
   "cell_type": "code",
   "execution_count": null,
   "id": "4155c505",
   "metadata": {
    "id": "4155c505"
   },
   "outputs": [],
   "source": [
    "print(classification)"
   ]
  },
  {
   "cell_type": "markdown",
   "id": "c2d64dd8",
   "metadata": {
    "id": "c2d64dd8"
   },
   "source": [
    " #### the model picks the largest number in the array"
   ]
  },
  {
   "cell_type": "code",
   "execution_count": null,
   "id": "aa6709d1",
   "metadata": {
    "id": "aa6709d1"
   },
   "outputs": [],
   "source": [
    "# lets see the first five predictions. i.e what the model thinks the image is\n",
    " \n",
    "for i in range(img_count + 1):\n",
    "    print(\"Image is of class\", classification[list_index[i]])\n"
   ]
  },
  {
   "cell_type": "code",
   "execution_count": null,
   "id": "18549ae1",
   "metadata": {
    "id": "18549ae1"
   },
   "outputs": [],
   "source": []
  }
 ],
 "metadata": {
  "colab": {
   "collapsed_sections": [],
   "name": "img_class.ipynb",
   "provenance": []
  },
  "kernelspec": {
   "display_name": "Python 3 (ipykernel)",
   "language": "python",
   "name": "python3"
  },
  "language_info": {
   "codemirror_mode": {
    "name": "ipython",
    "version": 3
   },
   "file_extension": ".py",
   "mimetype": "text/x-python",
   "name": "python",
   "nbconvert_exporter": "python",
   "pygments_lexer": "ipython3",
   "version": "3.8.12"
  }
 },
 "nbformat": 4,
 "nbformat_minor": 5
}
